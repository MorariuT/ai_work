{
 "cells": [
  {
   "cell_type": "markdown",
   "metadata": {},
   "source": [
    "# Formule\n",
    "\n",
    "### Precision: $\\frac{T_{positive}}{T_{positive} + F_{positive}}$\n",
    "\n",
    "### Accuracy: $\\frac{T_{positive} + T_{negative}}{Total}$\n",
    "\n",
    "### Recall: $\\frac{T_{positive}}{T_{positive} + F_{negative}}$\n",
    "\n",
    "### $F_1$ Score: $\\frac{2 * Precision * Recall}{Precision + Recall}$\n",
    "\n",
    "### False Positive Rate: $\\frac{F_{positive}}{F_{positive} + T_{negative}}$\n",
    "\n",
    "### False Negative Rate: $\\frac{F_{negative}}{F_{negative} + T_{positive}}$\n",
    "\n",
    "### True Positive Rate: $\\frac{T_{positive}}{T_{positive} + F_{negative}}$\n",
    "\n",
    "### True Negative Rate: $\\frac{T_{negative}}{T_{negative} + F_{positive}}$\n",
    "\n",
    "### Positive Predictive Value: $\\frac{T_{positive}}{T_{positive} + F_{positive}}$\n",
    "\n",
    "### $F_{beta}$ Score: $(1 + \\beta) * \\frac{Precision * Recall}{\\beta^2 * Precision + Recall}$ --> $F_1$, $F_2$ ...\n",
    "\n",
    "### Mean Squared Error: $\\frac{\\sum_{i=1}^{n}\\left(y_{i}-\\hat{y}_{i}\\right)^{2}}{n}$\n",
    "\n",
    "### Root Mean Squared Error: $\\sqrt{MSE}$ = $\\sqrt{\\frac{\\sum_{i=1}^{n}\\left(y_{i}-\\hat{y}_{i}\\right)^{2}}{n}}$ = $L_2$ Score\n",
    "\n",
    "### Mean Avrage Error: $\\frac{\\sum_{i=1}^{n}\\left|y_{i}-\\hat{y}_{i}\\right|}{n}$ = $L_1$ Score\n",
    "\n",
    "### Mean Bias Error: $\\frac{\\sum_{i=1}^{n}\\left(y_{i}-\\hat{y}_{i}\\right)}{n}$\n",
    "\n",
    "### Mean Absolute Percentage Error: $\\frac{100}{n} * \\sum_{i=1}^{n}\\left|\\frac{y_{i}-\\hat{y}_{i}}{y_i}\\right|$\n",
    "\n",
    "### Smooth Mean Absolute Error: $\\begin{cases}\\frac{1}{2} *(x-y)^{2} & \\text { if }(|x-y| \\leq \\delta) \\\\ \\delta *|x-y|-\\frac{1}{2} * \\delta^{2} & \\text { otherwise }\\end{cases}$ (Huber Loss $\\delta=1$)\n",
    "\n",
    "### Cross Entropy Loss: $\\left(y_{i} \\log \\left(\\hat{y}_{i}\\right)+\\left(1-y_{i}\\right) \\log \\left(1-\\hat{y}_{i}\\right)\\right)$\n",
    "\n",
    "### Hinge Loss (SVM): $\\frac{\\sum_{i=1}^{n} \\max \\left(0, 1 - y_i * \\hat{y}_{i}\\right)}{n}$\n",
    "\n",
    "### $R^2$ Error: $1 - \\frac{\\sum_{i=1}^{n}\\left(y_{i}-\\hat{y}_{i}\\right)^{2}}{\\sum_{i=1}^{n}\\left(y_{i}-\\overline{y}_{i}\\right)^{2}}$"
   ]
  }
 ],
 "metadata": {
  "language_info": {
   "name": "python"
  }
 },
 "nbformat": 4,
 "nbformat_minor": 2
}
